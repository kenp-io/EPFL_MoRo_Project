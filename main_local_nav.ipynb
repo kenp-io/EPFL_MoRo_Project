{
 "cells": [
  {
   "cell_type": "code",
   "execution_count": 1,
   "metadata": {},
   "outputs": [
    {
     "data": {
      "text/plain": [
       "'import globalNavigation\\nimport utils\\nimport kalman'"
      ]
     },
     "execution_count": 1,
     "metadata": {},
     "output_type": "execute_result"
    }
   ],
   "source": [
    "import numpy as np\n",
    "import cv2\n",
    "import os\n",
    "import sys\n",
    "import matplotlib.pyplot as plt\n",
    "import serial\n",
    "import time\n",
    "from IPython.display import clear_output\n",
    "\n",
    "%matplotlib inline\n",
    "sys.path.insert(0, os.path.join(os.getcwd(), 'src'))\n",
    "\n",
    "from Thymio import Thymio\n",
    "\n",
    "import localNavigation\n",
    "import importlib\n",
    "import utils\n",
    "import vision\n",
    "'''import globalNavigation\n",
    "import utils\n",
    "import kalman'''"
   ]
  },
  {
   "cell_type": "code",
   "execution_count": 3,
   "metadata": {},
   "outputs": [],
   "source": [
    "%matplotlib inline\n",
    "#th = Thymio.serial(port=\"COM8\", refreshing_rate=0.1)\n",
    "cap = vision.VideoCapture(\"http://192.168.13.124:8080/video\")"
   ]
  },
  {
   "cell_type": "code",
   "execution_count": 4,
   "metadata": {},
   "outputs": [],
   "source": [
    "importlib.reload(localNavigation)\n",
    "\n",
    "ourThymio = utils.virtualThymio(cap,th)\n",
    "#localNavigation.set_motor(100, 100, ourThymio)"
   ]
  },
  {
   "cell_type": "code",
   "execution_count": 5,
   "metadata": {},
   "outputs": [],
   "source": [
    "localNavigation.set_motor(0, 0, ourThymio)"
   ]
  },
  {
   "cell_type": "code",
   "execution_count": 8,
   "metadata": {},
   "outputs": [
    {
     "name": "stdout",
     "output_type": "stream",
     "text": [
      "local_navigation\n",
      "diag_front\n",
      "left_diag\n"
     ]
    }
   ],
   "source": [
    "importlib.reload(localNavigation)\n",
    "localNavigation.set_motor(100, 100, ourThymio)\n",
    "while True:\n",
    "    proximity = localNavigation.get_prox_values(ourThymio)\n",
    "    if(sum(proximity) > 1000):\n",
    "        print('local_navigation')\n",
    "        break\n",
    "localNavigation.navigate(ourThymio, proximity)"
   ]
  },
  {
   "cell_type": "code",
   "execution_count": 24,
   "metadata": {},
   "outputs": [
    {
     "data": {
      "text/plain": [
       "array([   0.,    0.,    0., 1540.,    0.])"
      ]
     },
     "execution_count": 24,
     "metadata": {},
     "output_type": "execute_result"
    }
   ],
   "source": [
    "localNavigation.get_prox_values(ourThymio)"
   ]
  },
  {
   "cell_type": "code",
   "execution_count": 6,
   "metadata": {},
   "outputs": [],
   "source": [
    "localNavigation.set_motor(0, 0, ourThymio)"
   ]
  },
  {
   "cell_type": "code",
   "execution_count": null,
   "metadata": {},
   "outputs": [],
   "source": []
  }
 ],
 "metadata": {
  "kernelspec": {
   "display_name": "Python 3",
   "language": "python",
   "name": "python3"
  },
  "language_info": {
   "codemirror_mode": {
    "name": "ipython",
    "version": 3
   },
   "file_extension": ".py",
   "mimetype": "text/x-python",
   "name": "python",
   "nbconvert_exporter": "python",
   "pygments_lexer": "ipython3",
   "version": "3.7.4"
  }
 },
 "nbformat": 4,
 "nbformat_minor": 4
}
