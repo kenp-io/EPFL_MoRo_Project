{
 "cells": [
  {
   "cell_type": "code",
   "execution_count": 1,
   "metadata": {},
   "outputs": [
    {
     "data": {
      "text/plain": [
       "'import globalNavigation\\nimport utils\\nimport kalman'"
      ]
     },
     "execution_count": 1,
     "metadata": {},
     "output_type": "execute_result"
    }
   ],
   "source": [
    "import numpy as np\n",
    "import cv2\n",
    "import os\n",
    "import sys\n",
    "import matplotlib.pyplot as plt\n",
    "import serial\n",
    "import time\n",
    "from IPython.display import clear_output\n",
    "\n",
    "%matplotlib inline\n",
    "sys.path.insert(0, os.path.join(os.getcwd(), 'src'))\n",
    "\n",
    "from Thymio import Thymio\n",
    "\n",
    "import localNavigation\n",
    "import importlib\n",
    "import utils\n",
    "import vision\n",
    "'''import globalNavigation\n",
    "import utils\n",
    "import kalman'''"
   ]
  },
  {
   "cell_type": "code",
   "execution_count": 2,
   "metadata": {},
   "outputs": [],
   "source": [
    "%matplotlib inline\n",
    "th = Thymio.serial(port=\"COM9\", refreshing_rate=0.1)\n",
    "cap = vision.VideoCapture(\"http://192.168.13.124:8080/video\")"
   ]
  },
  {
   "cell_type": "code",
   "execution_count": 5,
   "metadata": {},
   "outputs": [],
   "source": [
    "importlib.reload(localNavigation)\n",
    "\n",
    "ourThymio = utils.virtualThymio(cap,th)\n",
    "localNavigation.set_motor(100, 100, ourThymio)"
   ]
  },
  {
   "cell_type": "code",
   "execution_count": 6,
   "metadata": {},
   "outputs": [],
   "source": [
    "localNavigation.set_motor(0, 0, ourThymio)"
   ]
  },
  {
   "cell_type": "code",
   "execution_count": 7,
   "metadata": {},
   "outputs": [
    {
     "name": "stdout",
     "output_type": "stream",
     "text": [
      "[   0.    0. 1438.    0.    0.]\n"
     ]
    },
    {
     "name": "stderr",
     "output_type": "stream",
     "text": [
      "Exception in thread Thread-7:\n",
      "Traceback (most recent call last):\n",
      "  File \"c:\\users\\shadi\\appdata\\local\\programs\\python\\python38\\lib\\threading.py\", line 932, in _bootstrap_inner\n",
      "    self.run()\n",
      "  File \"c:\\users\\shadi\\appdata\\local\\programs\\python\\python38\\lib\\threading.py\", line 870, in run\n",
      "    self._target(*self._args, **self._kwargs)\n",
      "  File \"C:\\Users\\shadi\\Desktop\\thymio\\EPFL_MoRo_Project\\src\\Thymio.py\", line 340, in do_refresh\n",
      "    self.get_variables()\n",
      "  File \"C:\\Users\\shadi\\Desktop\\thymio\\EPFL_MoRo_Project\\src\\Thymio.py\", line 499, in get_variables\n",
      "    self.send(msg)\n",
      "  File \"C:\\Users\\shadi\\Desktop\\thymio\\EPFL_MoRo_Project\\src\\Thymio.py\", line 456, in send\n",
      "    self.io.write(msg.serialize())\n",
      "  File \"c:\\users\\shadi\\appdata\\local\\programs\\python\\python38\\lib\\site-packages\\serial\\serialwin32.py\", line 325, in write\n",
      "    raise SerialTimeoutException('Write timeout')\n",
      "serial.serialutil.SerialTimeoutException: Write timeout\n"
     ]
    }
   ],
   "source": [
    "localNavigation.set_motor(100, 100, ourThymio)\n",
    "while True:\n",
    "    proximity = localNavigation.get_prox_values(ourThymio)\n",
    "    if(sum(proximity) > 1000):\n",
    "        break\n",
    "localNavigation.navigate(ourThymio, proximity)"
   ]
  },
  {
   "cell_type": "code",
   "execution_count": null,
   "metadata": {},
   "outputs": [],
   "source": []
  }
 ],
 "metadata": {
  "kernelspec": {
   "display_name": "Python 3",
   "language": "python",
   "name": "python3"
  },
  "language_info": {
   "codemirror_mode": {
    "name": "ipython",
    "version": 3
   },
   "file_extension": ".py",
   "mimetype": "text/x-python",
   "name": "python",
   "nbconvert_exporter": "python",
   "pygments_lexer": "ipython3",
   "version": "3.8.1"
  }
 },
 "nbformat": 4,
 "nbformat_minor": 4
}
